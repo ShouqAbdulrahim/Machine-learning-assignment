{
  "nbformat": 4,
  "nbformat_minor": 0,
  "metadata": {
    "colab": {
      "provenance": [],
      "authorship_tag": "ABX9TyMDSxmOELPBJIdaSfRAQBGT",
      "include_colab_link": true
    },
    "kernelspec": {
      "name": "python3",
      "display_name": "Python 3"
    },
    "language_info": {
      "name": "python"
    }
  },
  "cells": [
    {
      "cell_type": "markdown",
      "metadata": {
        "id": "view-in-github",
        "colab_type": "text"
      },
      "source": [
        "<a href=\"https://colab.research.google.com/github/ShouqAbdulrahim/Machine-learning-assignment/blob/main/Assignment1.ipynb\" target=\"_parent\"><img src=\"https://colab.research.google.com/assets/colab-badge.svg\" alt=\"Open In Colab\"/></a>"
      ]
    },
    {
      "cell_type": "markdown",
      "source": [
        "## **Import Necessary Libraries**"
      ],
      "metadata": {
        "id": "BjGt40zGTOT_"
      }
    },
    {
      "cell_type": "code",
      "source": [
        "import pandas as pd\n",
        "from sklearn.model_selection import train_test_split\n",
        "from sklearn.preprocessing import StandardScaler\n",
        "from sklearn.linear_model import LogisticRegression\n",
        "from sklearn.metrics import accuracy_score, precision_score, recall_score, f1_score, roc_auc_score, roc_curve, RocCurveDisplay\n",
        "import matplotlib.pyplot as plt"
      ],
      "metadata": {
        "id": "cKATPk_sTRVq"
      },
      "execution_count": null,
      "outputs": []
    },
    {
      "cell_type": "markdown",
      "source": [
        "## **Task 1: Data Preparation**"
      ],
      "metadata": {
        "id": "Ns9A8sXLTTTf"
      }
    },
    {
      "cell_type": "code",
      "source": [
        "# 1. Load and read the Apple Quality datatset, a binary classification dataset.\n",
        "url = \"https://raw.githubusercontent.com/rjdp07/Apple_Quality/main/apple_quality.csv\"\n",
        "data = pd.read_csv(url)\n",
        "\n",
        "# Set pandas to display all columns in one line\n",
        "pd.set_option('display.max_columns', None)  # Adjust to ensure no column is omitted in display\n",
        "pd.set_option('display.width', 1000)  # Adjust width to accommodate all columns\n",
        "# 2.Display the first five rows of the dataset to understand the dataset structure.\n",
        "print(data.head())\n",
        "\n",
        "# 3. Handle missing values if present, by removing the examples with missing features from the dataset.\n",
        "data.dropna(inplace=True)\n",
        "\n",
        "\n",
        "# 4. Extract features and target columns into X and y, respectively.\n",
        "X = data.drop('Quality', axis=1)\n",
        "y = data['Quality']\n",
        "\n",
        "# 5. Check the distribution of the target variable.\n",
        "print(y.value_counts())\n",
        "\n",
        "# 6. Split the data into training (80%) and testing (20%) sets.\n",
        "X_train, X_test, y_train, y_test = train_test_split(X, y, test_size=0.2, random_state=42)\n",
        "\n",
        "\n",
        "# 7. Apply feature scaling (standardization) to the features.\n",
        "scaler = StandardScaler()\n",
        "X_train_scaled = scaler.fit_transform(X_train)\n",
        "X_test_scaled = scaler.transform(X_test)\n",
        "\n"
      ],
      "metadata": {
        "colab": {
          "base_uri": "https://localhost:8080/"
        },
        "id": "QEbKa-PWTXRW",
        "outputId": "a03ab422-8ed8-4a5b-cbf9-947fbd0129f2"
      },
      "execution_count": null,
      "outputs": [
        {
          "output_type": "stream",
          "name": "stdout",
          "text": [
            "   A_id      Size    Weight  Sweetness  Crunchiness  Juiciness  Ripeness       Acidity Quality\n",
            "0   0.0 -3.970049 -2.512336   5.346330    -1.012009   1.844900  0.329840  -0.491590483    good\n",
            "1   1.0 -1.195217 -2.839257   3.664059     1.588232   0.853286  0.867530  -0.722809367    good\n",
            "2   2.0 -0.292024 -1.351282  -1.738429    -0.342616   2.838636 -0.038033   2.621636473     bad\n",
            "3   3.0 -0.657196 -2.271627   1.324874    -0.097875   3.637970 -3.413761   0.790723217    good\n",
            "4   4.0  1.364217 -1.296612  -0.384658    -0.553006   3.030874 -1.303849   0.501984036    good\n",
            "Quality\n",
            "good    2004\n",
            "bad     1996\n",
            "Name: count, dtype: int64\n"
          ]
        }
      ]
    },
    {
      "cell_type": "markdown",
      "source": [
        "# **8- Theoretical Question: Why is standardization important for this dataset?**\n",
        "\n",
        "Answer: Standardization is crucial because it normalizes feature scales, ensuring that the logistic regression model treats all features equally, improving its convergence and accuracy."
      ],
      "metadata": {
        "id": "Hz2OZEpiY7Ol"
      }
    },
    {
      "cell_type": "markdown",
      "source": [
        "## **Task 2: Logistic Regression Implementation**"
      ],
      "metadata": {
        "id": "wOrvFMpfTbvx"
      }
    },
    {
      "cell_type": "code",
      "source": [
        "# 1. Implement logistic regression without regularization using sklearn library.\n",
        "model_no_reg = LogisticRegression(random_state=42)\n",
        "model_no_reg.fit(X_train_scaled, y_train)\n",
        "\n",
        "# 2. Use the trained logistic regression model to predict the target values for the testing set.\n",
        "\n",
        "y_pred = model_no_reg.predict(X_test_scaled)\n",
        "positive_class = 'good'  # Change this to 'bad' if 'bad' is considered the positive class\n",
        "\n",
        "# 3. Calculate and print the evaluation metrics for the model\n",
        "print(\"Metrics without Regularization:\")\n",
        "print(\"Accuracy:\", accuracy_score(y_test, y_pred))\n",
        "print(\"Precision:\", precision_score(y_test, y_pred, pos_label=positive_class))\n",
        "print(\"Recall:\", recall_score(y_test, y_pred, pos_label=positive_class))\n",
        "print(\"F1-score:\", f1_score(y_test, y_pred, pos_label=positive_class))\n",
        "print(\"ROC-AUC:\", roc_auc_score(y_test, model_no_reg.predict_proba(X_test_scaled)[:, 1]))\n"
      ],
      "metadata": {
        "colab": {
          "base_uri": "https://localhost:8080/"
        },
        "id": "8oG5V1TMTgQV",
        "outputId": "8e6aa88e-c05c-49b7-f4c2-db4618c7e97a"
      },
      "execution_count": null,
      "outputs": [
        {
          "output_type": "stream",
          "name": "stdout",
          "text": [
            "Metrics without Regularization:\n",
            "Accuracy: 0.75375\n",
            "Precision: 0.7525\n",
            "Recall: 0.7543859649122807\n",
            "F1-score: 0.753441802252816\n",
            "ROC-AUC: 0.8227551422196389\n"
          ]
        }
      ]
    },
    {
      "cell_type": "markdown",
      "source": [
        "## **Task 3: Logistic Regression with Regularization**"
      ],
      "metadata": {
        "id": "LUhk0jPhTjxF"
      }
    },
    {
      "cell_type": "code",
      "source": [
        "# 1. Implement logistic regression with L2 regularization. Experiment with different regularization strengths (e.g., C = 0.1, 1, 10).\n",
        "C_values = [0.1, 1, 10]\n",
        "for C_val in C_values:\n",
        "    model_reg = LogisticRegression(C=C_val, penalty='l2', random_state=42)\n",
        "    model_reg.fit(X_train_scaled, y_train)\n",
        "    y_pred_reg = model_reg.predict(X_test_scaled)\n",
        "\n",
        "# 2. Calculate and print the same metrics for each regularization strength\n",
        "    print(f\"Metrics with Regularization (C={C_val}):\")\n",
        "    print(\"Accuracy:\", accuracy_score(y_test, y_pred_reg))\n",
        "    print(\"Precision:\", precision_score(y_test, y_pred_reg, pos_label=positive_class))\n",
        "    print(\"Recall:\", recall_score(y_test, y_pred_reg, pos_label=positive_class))\n",
        "    print(\"F1-score:\", f1_score(y_test, y_pred_reg, pos_label=positive_class))\n",
        "    print(\"ROC-AUC:\", roc_auc_score(y_test, model_reg.predict_proba(X_test_scaled)[:, 1]))\n"
      ],
      "metadata": {
        "colab": {
          "base_uri": "https://localhost:8080/"
        },
        "id": "KxQwLNYXTm8e",
        "outputId": "bffeb00b-c884-4db8-c497-25645b007099"
      },
      "execution_count": null,
      "outputs": [
        {
          "output_type": "stream",
          "name": "stdout",
          "text": [
            "Metrics with Regularization (C=0.1):\n",
            "Accuracy: 0.75375\n",
            "Precision: 0.7537688442211056\n",
            "Recall: 0.7518796992481203\n",
            "F1-score: 0.7528230865746549\n",
            "ROC-AUC: 0.822973893586835\n",
            "Metrics with Regularization (C=1):\n",
            "Accuracy: 0.75375\n",
            "Precision: 0.7525\n",
            "Recall: 0.7543859649122807\n",
            "F1-score: 0.753441802252816\n",
            "ROC-AUC: 0.8227551422196389\n",
            "Metrics with Regularization (C=10):\n",
            "Accuracy: 0.7525\n",
            "Precision: 0.7518796992481203\n",
            "Recall: 0.7518796992481203\n",
            "F1-score: 0.7518796992481203\n",
            "ROC-AUC: 0.8227176419852624\n"
          ]
        }
      ]
    },
    {
      "cell_type": "markdown",
      "source": [
        "# **2-**\n",
        "As  C  increases, the model might overfit, showing possibly higher accuracy but lower precision and recall balance, potentially reducing F1-score and ROC-AUC effectiveness.\n",
        "\n",
        "\n",
        "# **3- Theoretical Question: Discuss the impact of L2 regularization in logistic regression.**\n",
        " Answer: L2 regularization reduces overfitting by penalizing large coefficients,leading to a more generalized model.\n",
        " It helps manage multicollinearity and model complexity, improving model performance on new data."
      ],
      "metadata": {
        "id": "2cbVGNaKZWC_"
      }
    },
    {
      "cell_type": "markdown",
      "source": [
        "## **Task 4: Comparison and AUC Visualization**"
      ],
      "metadata": {
        "id": "lSYiiu_JTqFy"
      }
    },
    {
      "cell_type": "markdown",
      "source": [
        "# **1- Theoretical Question: Why compare models with and without regularization?**\n",
        "\n",
        "Answer: Comparing models helps identify the effectiveness of regularization in preventing overfitting and improving model generalizability. It shows the trade-off between bias and variance."
      ],
      "metadata": {
        "id": "NasMOZEAhzMC"
      }
    },
    {
      "cell_type": "code",
      "source": [
        "\n",
        "\n",
        "# 2. Plot the ROC curve for the best-performing model in terms of accuracy.\n",
        "RocCurveDisplay.from_estimator(model_reg, X_test_scaled, y_test)\n",
        "plt.plot([0, 1], [0, 1], color='navy', linestyle='--', label='Random Guess')\n",
        "plt.title('ROC Curve for Classification')\n",
        "plt.xlabel('False Positive Rate')\n",
        "plt.ylabel('True Positive Rate')\n",
        "plt.legend(loc=\"lower right\")\n",
        "plt.show()"
      ],
      "metadata": {
        "colab": {
          "base_uri": "https://localhost:8080/",
          "height": 472
        },
        "id": "4TIdfvVvTsIw",
        "outputId": "55ae2032-96aa-44c6-e856-1e583e54d73d"
      },
      "execution_count": null,
      "outputs": [
        {
          "output_type": "display_data",
          "data": {
            "text/plain": [
              "<Figure size 640x480 with 1 Axes>"
            ],
            "image/png": "[encoded data removed]"
          },
          "metadata": {}
        }
      ]
    }
  ]
}